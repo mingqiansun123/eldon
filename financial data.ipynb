{
 "cells": [
  {
   "cell_type": "code",
   "execution_count": 2,
   "metadata": {},
   "outputs": [],
   "source": [
    "import pandas as pd\n",
    "import quandl\n",
    "import matplotlib.pyplot as plt"
   ]
  },
  {
   "cell_type": "code",
   "execution_count": 3,
   "metadata": {},
   "outputs": [],
   "source": [
    "#A function that you can pass in any data from data sources,it will standardize the format into index:date,columns:Index Name,Index Columns\n",
    "#Nake sure you take a look at your data before doing the function and find out which index you want to keep as the Index Value.Keep contains two columns and the first is always 'Index Name'\n",
    "def standardata(dataset,name,keep=['Index Name']):\n",
    "    quandl.ApiConfig.api_key = \"z2y5P4Yhy1YFZARoYStN\"\n",
    "    df1=quandl.get(dataset)\n",
    "    df1.insert(loc=0,column='Index Name',value=name)\n",
    "    for col in df1.columns:\n",
    "        if col not in keep:\n",
    "            df1.drop(columns=[col],inplace=True)\n",
    "    df1.columns=['Index Name','Index Value']\n",
    "    return df1"
   ]
  },
  {
   "cell_type": "code",
   "execution_count": 4,
   "metadata": {},
   "outputs": [
    {
     "data": {
      "text/html": [
       "<div>\n",
       "<style scoped>\n",
       "    .dataframe tbody tr th:only-of-type {\n",
       "        vertical-align: middle;\n",
       "    }\n",
       "\n",
       "    .dataframe tbody tr th {\n",
       "        vertical-align: top;\n",
       "    }\n",
       "\n",
       "    .dataframe thead th {\n",
       "        text-align: right;\n",
       "    }\n",
       "</style>\n",
       "<table border=\"1\" class=\"dataframe\">\n",
       "  <thead>\n",
       "    <tr style=\"text-align: right;\">\n",
       "      <th></th>\n",
       "      <th>Index Name</th>\n",
       "      <th>Index Value</th>\n",
       "    </tr>\n",
       "    <tr>\n",
       "      <th>Trade Date</th>\n",
       "      <th></th>\n",
       "      <th></th>\n",
       "    </tr>\n",
       "  </thead>\n",
       "  <tbody>\n",
       "    <tr>\n",
       "      <th>2016-12-19</th>\n",
       "      <td>Nasdaq</td>\n",
       "      <td>4934.85</td>\n",
       "    </tr>\n",
       "    <tr>\n",
       "      <th>2016-12-20</th>\n",
       "      <td>Nasdaq</td>\n",
       "      <td>4953.80</td>\n",
       "    </tr>\n",
       "    <tr>\n",
       "      <th>2016-12-21</th>\n",
       "      <td>Nasdaq</td>\n",
       "      <td>4948.90</td>\n",
       "    </tr>\n",
       "    <tr>\n",
       "      <th>2016-12-22</th>\n",
       "      <td>Nasdaq</td>\n",
       "      <td>4934.39</td>\n",
       "    </tr>\n",
       "    <tr>\n",
       "      <th>2016-12-23</th>\n",
       "      <td>Nasdaq</td>\n",
       "      <td>4940.02</td>\n",
       "    </tr>\n",
       "    <tr>\n",
       "      <th>...</th>\n",
       "      <td>...</td>\n",
       "      <td>...</td>\n",
       "    </tr>\n",
       "    <tr>\n",
       "      <th>2020-07-20</th>\n",
       "      <td>Nasdaq</td>\n",
       "      <td>10952.08</td>\n",
       "    </tr>\n",
       "    <tr>\n",
       "      <th>2020-07-21</th>\n",
       "      <td>Nasdaq</td>\n",
       "      <td>10833.07</td>\n",
       "    </tr>\n",
       "    <tr>\n",
       "      <th>2020-07-22</th>\n",
       "      <td>Nasdaq</td>\n",
       "      <td>10870.75</td>\n",
       "    </tr>\n",
       "    <tr>\n",
       "      <th>2020-07-23</th>\n",
       "      <td>Nasdaq</td>\n",
       "      <td>10580.59</td>\n",
       "    </tr>\n",
       "    <tr>\n",
       "      <th>2020-07-24</th>\n",
       "      <td>Nasdaq</td>\n",
       "      <td>10483.13</td>\n",
       "    </tr>\n",
       "  </tbody>\n",
       "</table>\n",
       "<p>905 rows × 2 columns</p>\n",
       "</div>"
      ],
      "text/plain": [
       "           Index Name  Index Value\n",
       "Trade Date                        \n",
       "2016-12-19     Nasdaq      4934.85\n",
       "2016-12-20     Nasdaq      4953.80\n",
       "2016-12-21     Nasdaq      4948.90\n",
       "2016-12-22     Nasdaq      4934.39\n",
       "2016-12-23     Nasdaq      4940.02\n",
       "...               ...          ...\n",
       "2020-07-20     Nasdaq     10952.08\n",
       "2020-07-21     Nasdaq     10833.07\n",
       "2020-07-22     Nasdaq     10870.75\n",
       "2020-07-23     Nasdaq     10580.59\n",
       "2020-07-24     Nasdaq     10483.13\n",
       "\n",
       "[905 rows x 2 columns]"
      ]
     },
     "execution_count": 4,
     "metadata": {},
     "output_type": "execute_result"
    }
   ],
   "source": [
    "nasdaq=standardata('NASDAQOMX/XQC',name='Nasdaq',keep=['Index Name','Index Value'])\n",
    "nasdaq"
   ]
  },
  {
   "cell_type": "code",
   "execution_count": 7,
   "metadata": {},
   "outputs": [
    {
     "data": {
      "text/html": [
       "<div>\n",
       "<style scoped>\n",
       "    .dataframe tbody tr th:only-of-type {\n",
       "        vertical-align: middle;\n",
       "    }\n",
       "\n",
       "    .dataframe tbody tr th {\n",
       "        vertical-align: top;\n",
       "    }\n",
       "\n",
       "    .dataframe thead th {\n",
       "        text-align: right;\n",
       "    }\n",
       "</style>\n",
       "<table border=\"1\" class=\"dataframe\">\n",
       "  <thead>\n",
       "    <tr style=\"text-align: right;\">\n",
       "      <th></th>\n",
       "      <th>Index Name</th>\n",
       "      <th>Index Value</th>\n",
       "    </tr>\n",
       "    <tr>\n",
       "      <th>Date</th>\n",
       "      <th></th>\n",
       "      <th></th>\n",
       "    </tr>\n",
       "  </thead>\n",
       "  <tbody>\n",
       "    <tr>\n",
       "      <th>1948-01-31</th>\n",
       "      <td>Misery</td>\n",
       "      <td>13.63</td>\n",
       "    </tr>\n",
       "    <tr>\n",
       "      <th>1948-02-29</th>\n",
       "      <td>Misery</td>\n",
       "      <td>13.10</td>\n",
       "    </tr>\n",
       "    <tr>\n",
       "      <th>1948-03-31</th>\n",
       "      <td>Misery</td>\n",
       "      <td>10.85</td>\n",
       "    </tr>\n",
       "    <tr>\n",
       "      <th>1948-04-30</th>\n",
       "      <td>Misery</td>\n",
       "      <td>12.58</td>\n",
       "    </tr>\n",
       "    <tr>\n",
       "      <th>1948-05-31</th>\n",
       "      <td>Misery</td>\n",
       "      <td>12.63</td>\n",
       "    </tr>\n",
       "    <tr>\n",
       "      <th>...</th>\n",
       "      <td>...</td>\n",
       "      <td>...</td>\n",
       "    </tr>\n",
       "    <tr>\n",
       "      <th>2020-01-31</th>\n",
       "      <td>Misery</td>\n",
       "      <td>6.09</td>\n",
       "    </tr>\n",
       "    <tr>\n",
       "      <th>2020-02-29</th>\n",
       "      <td>Misery</td>\n",
       "      <td>5.83</td>\n",
       "    </tr>\n",
       "    <tr>\n",
       "      <th>2020-03-31</th>\n",
       "      <td>Misery</td>\n",
       "      <td>5.94</td>\n",
       "    </tr>\n",
       "    <tr>\n",
       "      <th>2020-04-30</th>\n",
       "      <td>Misery</td>\n",
       "      <td>15.03</td>\n",
       "    </tr>\n",
       "    <tr>\n",
       "      <th>2020-05-31</th>\n",
       "      <td>Misery</td>\n",
       "      <td>13.42</td>\n",
       "    </tr>\n",
       "  </tbody>\n",
       "</table>\n",
       "<p>867 rows × 2 columns</p>\n",
       "</div>"
      ],
      "text/plain": [
       "           Index Name  Index Value\n",
       "Date                              \n",
       "1948-01-31     Misery        13.63\n",
       "1948-02-29     Misery        13.10\n",
       "1948-03-31     Misery        10.85\n",
       "1948-04-30     Misery        12.58\n",
       "1948-05-31     Misery        12.63\n",
       "...               ...          ...\n",
       "2020-01-31     Misery         6.09\n",
       "2020-02-29     Misery         5.83\n",
       "2020-03-31     Misery         5.94\n",
       "2020-04-30     Misery        15.03\n",
       "2020-05-31     Misery        13.42\n",
       "\n",
       "[867 rows x 2 columns]"
      ]
     },
     "execution_count": 7,
     "metadata": {},
     "output_type": "execute_result"
    }
   ],
   "source": [
    "misery=standardata('USMISERY/INDEX',name='Misery',keep=['Index Name','Misery Index'])\n",
    "misery"
   ]
  },
  {
   "cell_type": "code",
   "execution_count": 20,
   "metadata": {},
   "outputs": [
    {
     "data": {
      "text/plain": [
       "<matplotlib.axes._subplots.AxesSubplot at 0x10ea4850>"
      ]
     },
     "execution_count": 20,
     "metadata": {},
     "output_type": "execute_result"
    },
    {
     "data": {
      "image/png": "[encoded data removed]",
      "text/plain": [
       "<Figure size 1080x1080 with 2 Axes>"
      ]
     },
     "metadata": {
      "needs_background": "light"
     },
     "output_type": "display_data"
    }
   ],
   "source": [
    "#Plot the two datasets from 2016-11-30 since we could only extract Nasdaq index from 2016-12-19.\n",
    "#We could briefly tell that nasdaq index and US misery index may have an inverse relationship by looking at data before and after April 2020\n",
    "#Before April 2020,US misery index were decreasing while nasdaq index were increasing. However,on April 2020, US misery index had a sudden increase from 6 to 15(Maybe due to COVID-19)\n",
    "#And nasdaq index had a tremendous decrease. We still need dataset comparasion to support our hypothesis. \n",
    "misery1=misery.loc['2016-11-30':]\n",
    "fig,axes=plt.subplots(2,1,figsize=(15,15),sharex=True)\n",
    "nasdaq.plot(ax=axes[0])\n",
    "misery1.plot(ax=axes[1])"
   ]
  },
  {
   "cell_type": "code",
   "execution_count": 33,
   "metadata": {},
   "outputs": [
    {
     "data": {
      "text/html": [
       "<div>\n",
       "<style scoped>\n",
       "    .dataframe tbody tr th:only-of-type {\n",
       "        vertical-align: middle;\n",
       "    }\n",
       "\n",
       "    .dataframe tbody tr th {\n",
       "        vertical-align: top;\n",
       "    }\n",
       "\n",
       "    .dataframe thead th {\n",
       "        text-align: right;\n",
       "    }\n",
       "</style>\n",
       "<table border=\"1\" class=\"dataframe\">\n",
       "  <thead>\n",
       "    <tr style=\"text-align: right;\">\n",
       "      <th></th>\n",
       "      <th>Index Value_nasdaq</th>\n",
       "      <th>Index Value_misery</th>\n",
       "    </tr>\n",
       "  </thead>\n",
       "  <tbody>\n",
       "    <tr>\n",
       "      <th>Index Value_nasdaq</th>\n",
       "      <td>1.00000</td>\n",
       "      <td>0.20897</td>\n",
       "    </tr>\n",
       "    <tr>\n",
       "      <th>Index Value_misery</th>\n",
       "      <td>0.20897</td>\n",
       "      <td>1.00000</td>\n",
       "    </tr>\n",
       "  </tbody>\n",
       "</table>\n",
       "</div>"
      ],
      "text/plain": [
       "                    Index Value_nasdaq  Index Value_misery\n",
       "Index Value_nasdaq             1.00000             0.20897\n",
       "Index Value_misery             0.20897             1.00000"
      ]
     },
     "execution_count": 33,
     "metadata": {},
     "output_type": "execute_result"
    }
   ],
   "source": [
    "jointable=nasdaq.merge(misery,how='inner',left_index=True,right_index=True,suffixes=('_nasdaq','_misery'))\n",
    "jointable.drop(columns=['Index Name_nasdaq','Index Name_misery'],inplace=True)\n",
    "jointable.corr()\n",
    "#jointable.cov()"
   ]
  },
  {
   "cell_type": "code",
   "execution_count": null,
   "metadata": {},
   "outputs": [],
   "source": []
  },
  {
   "cell_type": "code",
   "execution_count": null,
   "metadata": {},
   "outputs": [],
   "source": []
  }
 ],
 "metadata": {
  "kernelspec": {
   "display_name": "Python 3",
   "language": "python",
   "name": "python3"
  },
  "language_info": {
   "codemirror_mode": {
    "name": "ipython",
    "version": 3
   },
   "file_extension": ".py",
   "mimetype": "text/x-python",
   "name": "python",
   "nbconvert_exporter": "python",
   "pygments_lexer": "ipython3",
   "version": "3.8.1"
  }
 },
 "nbformat": 4,
 "nbformat_minor": 4
}
